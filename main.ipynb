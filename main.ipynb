{
 "cells": [
  {
   "cell_type": "code",
   "execution_count": 2,
   "metadata": {
    "scrolled": true
   },
   "outputs": [
    {
     "name": "stderr",
     "output_type": "stream",
     "text": [
      "Using TensorFlow backend.\n"
     ]
    }
   ],
   "source": [
    "import os\n",
    "import matplotlib.pyplot as plt\n",
    "from matplotlib.pyplot import imshow\n",
    "import scipy.io\n",
    "import scipy.misc\n",
    "import numpy as np\n",
    "import pandas as pd\n",
    "import PIL\n",
    "import tensorflow as tf\n",
    "from skimage.transform import resize\n",
    "from keras import backend as K\n",
    "from keras.layers import Input, Lambda, Conv2D\n",
    "from keras.models import load_model, Model\n",
    "from yolo_utils import read_classes, read_anchors, generate_colors, preprocess_image, draw_boxes, scale_boxes\n",
    "from yad2k.models.keras_yolo import yolo_head, yolo_boxes_to_corners, preprocess_true_boxes, yolo_loss, yolo_body\n",
    "%matplotlib inline"
   ]
  },
  {
   "cell_type": "code",
   "execution_count": null,
   "metadata": {},
   "outputs": [],
   "source": []
  },
  {
   "cell_type": "code",
   "execution_count": null,
   "metadata": {},
   "outputs": [],
   "source": [
    "def yolo_filter_boxes(box_confidence, boxes, box_class_probs, threshold=0.6):\n",
    "    box_scores=box_confidence*box_class_probs\n",
    "    box_classes=K.argmax(box_scores,-1)\n",
    "    box_class_scores= K.max(box_scores,-1)\n",
    "    filtering_mask=box_class_scores>threshold\n",
    "    scores=tf.boolean_mask(box_class_scores, filtering_mask)\n",
    "    boxes=tf.boolean_mask(boxes, filtering_mask)\n",
    "    classes=tf.boolean_mask(box_classes, filtering_mask)\n",
    "    \n",
    "    return scores, boxes, classes\n"
   ]
  },
  {
   "cell_type": "code",
   "execution_count": null,
   "metadata": {},
   "outputs": [],
   "source": [
    "def iou(box1, box2):\n",
    "    xi1=max[box1[0], box2[0]]\n",
    "    yi1=max[box1[1], box2[1]]\n",
    "    xi2=min[box1[2], box2[2]]\n",
    "    yi2=min[box1[3], box2[3]]\n",
    "    \n",
    "    inter_area= (yi2-yi1)*(xi2-xi1)\n",
    "    box1_area= (box1[3]-box1[1])*(box1[2]-box1[0])\n",
    "    box2_area= (box2[3]-box2[1])*(box2[2]-box2[0])\n",
    "    \n",
    "    union_area= box1_area+box2_area-inter_area\n",
    "    iou=inter_area/union_area\n",
    "    \n",
    "    return iou\n"
   ]
  },
  {
   "cell_type": "code",
   "execution_count": null,
   "metadata": {},
   "outputs": [],
   "source": [
    "def yolo_non_max_suppression(scores, boxes, classes, max_boxes=10, iou_threshold=0.5):\n",
    "    max_box_tensor=K.variable(max_boxes, dtype='int32')\n",
    "    K.get_session().run(tf.variables_initializer([max_boxes_tensor]))\n",
    "    nms_indices = tf.image.non_max_suppression(boxes, scores, max_boxes, iou_threshold)\n",
    "    scores = K.gather(scores, nms_indices)\n",
    "    boxes=K.gather(boxes, nms_indices)\n",
    "    classes=K.gather(classes, nms_indices)\n",
    "    \n",
    "    return scores, boxes, classes\n",
    "\n",
    "    "
   ]
  },
  {
   "cell_type": "code",
   "execution_count": null,
   "metadata": {},
   "outputs": [],
   "source": [
    "yolo_outputs = (tf.random.normal([19,19,5,1], mean=1, stddev=4, seed=1),\n",
    "                tf.random.normal([19,19,5,2], mean=1, stddev=4, seed=1),\n",
    "                tf.random.normal([19,19,5,2], mean=1, stddev=4, seed=1),\n",
    "                tf.random.normal([19,19,5,80], mean=1, stddev=4, seed=1))"
   ]
  },
  {
   "cell_type": "code",
   "execution_count": null,
   "metadata": {},
   "outputs": [],
   "source": [
    "def yolo_eval(yolo_outputs, image_shape=(720.,1280.), max_boxes=10, score_threshold=.6, iou_threshold=.5):\n",
    "    box_confidence, box_xy, box_wh, box_class_prons = yolo_outputs\n",
    "    boxes = yolo_boxes_to_corners(box_xy, box_wh)\n",
    "    scores, boxes, classes= yolo_filter(box_confidence, boxes, box_class_probs, threshold=score_threshold)\n",
    "    boxes=scale_boxes(boxes, image_shape)\n",
    "    scores, boxes, classes= yolo_non_max_suppression(scores, boxes, classes, max_boxes, iou_threshold)\n",
    "    return scores, boxes, classes"
   ]
  },
  {
   "cell_type": "code",
   "execution_count": null,
   "metadata": {},
   "outputs": [],
   "source": []
  }
 ],
 "metadata": {
  "kernelspec": {
   "display_name": "Python 3",
   "language": "python",
   "name": "python3"
  }
 },
 "nbformat": 4,
 "nbformat_minor": 4
}
