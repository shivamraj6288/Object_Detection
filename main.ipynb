{
  "nbformat": 4,
  "nbformat_minor": 0,
  "metadata": {
    "kernelspec": {
      "display_name": "Python 3",
      "language": "python",
      "name": "python3"
    },
    "colab": {
      "name": "main.ipynb",
      "provenance": []
    },
    "accelerator": "GPU"
  },
  "cells": [
    {
      "cell_type": "code",
      "metadata": {
        "id": "74u5x4pKepnO",
        "colab_type": "code",
        "colab": {}
      },
      "source": [
        "import os\n",
        "import matplotlib.pyplot as plt\n",
        "from matplotlib.pyplot import imshow\n",
        "import scipy.io\n",
        "import scipy.misc\n",
        "import numpy as np\n",
        "import pandas as pd\n",
        "import PIL\n",
        "import tensorflow as tf\n",
        "from skimage.transform import resize\n",
        "from keras import backend as K\n",
        "from keras.layers import Input, Lambda, Conv2D\n",
        "from keras.models import load_model, Model\n",
        "from yolo_utils import read_classes, read_anchors, generate_colors, preprocess_image, draw_boxes, scale_boxes\n",
        "from keras_yolo import yolo_head, yolo_boxes_to_corners, preprocess_true_boxes, yolo_loss, yolo_body\n",
        "%matplotlib inline"
      ],
      "execution_count": 2,
      "outputs": []
    },
    {
      "cell_type": "code",
      "metadata": {
        "id": "481kKtSDej-l",
        "colab_type": "code",
        "colab": {
          "base_uri": "https://localhost:8080/",
          "height": 35
        },
        "outputId": "628d14e3-2144-4df9-b0f2-e7be285b2f82"
      },
      "source": [
        "tf.config.list_physical_devices('GPU')"
      ],
      "execution_count": 3,
      "outputs": [
        {
          "output_type": "execute_result",
          "data": {
            "text/plain": [
              "[PhysicalDevice(name='/physical_device:GPU:0', device_type='GPU')]"
            ]
          },
          "metadata": {
            "tags": []
          },
          "execution_count": 3
        }
      ]
    },
    {
      "cell_type": "code",
      "metadata": {
        "id": "-BTdGdL1ej-w",
        "colab_type": "code",
        "colab": {}
      },
      "source": [
        "def yolo_filter_boxes(box_confidence, boxes, box_class_probs, threshold=0.6):\n",
        "    box_scores=box_confidence*box_class_probs\n",
        "    box_classes=K.argmax(box_scores,-1)\n",
        "    box_class_scores= K.max(box_scores,-1)\n",
        "    filtering_mask=box_class_scores>threshold\n",
        "    scores=tf.boolean_mask(box_class_scores, filtering_mask)\n",
        "    boxes=tf.boolean_mask(boxes, filtering_mask)\n",
        "    classes=tf.boolean_mask(box_classes, filtering_mask)\n",
        "    \n",
        "    return scores, boxes, classes\n"
      ],
      "execution_count": 4,
      "outputs": []
    },
    {
      "cell_type": "code",
      "metadata": {
        "id": "8r-Dc0VBej-5",
        "colab_type": "code",
        "colab": {}
      },
      "source": [
        "def iou(box1, box2):\n",
        "    xi1=max[box1[0], box2[0]]\n",
        "    yi1=max[box1[1], box2[1]]\n",
        "    xi2=min[box1[2], box2[2]]\n",
        "    yi2=min[box1[3], box2[3]]\n",
        "    \n",
        "    inter_area= (yi2-yi1)*(xi2-xi1)\n",
        "    box1_area= (box1[3]-box1[1])*(box1[2]-box1[0])\n",
        "    box2_area= (box2[3]-box2[1])*(box2[2]-box2[0])\n",
        "    \n",
        "    union_area= box1_area+box2_area-inter_area\n",
        "    iou=inter_area/union_area\n",
        "    \n",
        "    return iou\n"
      ],
      "execution_count": 5,
      "outputs": []
    },
    {
      "cell_type": "code",
      "metadata": {
        "id": "5ZcOpoxaej_C",
        "colab_type": "code",
        "colab": {}
      },
      "source": [
        "def yolo_non_max_suppression(scores, boxes, classes, max_boxes=10, iou_threshold=0.5):\n",
        "    max_box_tensor=K.variable(max_boxes, dtype='int32')\n",
        "    # K.get_session().run(tf.variables_initializer([max_boxes_tensor]))\n",
        "    nms_indices = tf.image.non_max_suppression(boxes, scores, max_boxes, iou_threshold)\n",
        "    scores = K.gather(scores, nms_indices)\n",
        "    boxes=K.gather(boxes, nms_indices)\n",
        "    classes=K.gather(classes, nms_indices)\n",
        "    \n",
        "    return scores, boxes, classes\n",
        "\n",
        "    "
      ],
      "execution_count": 14,
      "outputs": []
    },
    {
      "cell_type": "code",
      "metadata": {
        "id": "EGF-vzcxej_M",
        "colab_type": "code",
        "colab": {}
      },
      "source": [
        "yolo_outputs = (tf.random.normal([19,19,5,1], mean=1, stddev=4, seed=1),\n",
        "                tf.random.normal([19,19,5,2], mean=1, stddev=4, seed=1),\n",
        "                tf.random.normal([19,19,5,2], mean=1, stddev=4, seed=1),\n",
        "                tf.random.normal([19,19,5,80], mean=1, stddev=4, seed=1))"
      ],
      "execution_count": 15,
      "outputs": []
    },
    {
      "cell_type": "code",
      "metadata": {
        "id": "9WhvpWFXej_V",
        "colab_type": "code",
        "colab": {}
      },
      "source": [
        "def yolo_eval(yolo_outputs, image_shape=(720.,1280.), max_boxes=10, score_threshold=.6, iou_threshold=.5):\n",
        "    box_confidence, box_xy, box_wh, box_class_probs = yolo_outputs\n",
        "    boxes = yolo_boxes_to_corners(box_xy, box_wh)\n",
        "    scores, boxes, classes= yolo_filter_boxes(box_confidence, boxes, box_class_probs, threshold=score_threshold)\n",
        "    boxes=scale_boxes(boxes, image_shape)\n",
        "    scores, boxes, classes= yolo_non_max_suppression(scores, boxes, classes, max_boxes, iou_threshold)\n",
        "    return scores, boxes, classes"
      ],
      "execution_count": 16,
      "outputs": []
    },
    {
      "cell_type": "code",
      "metadata": {
        "id": "UarFtF_Nej_i",
        "colab_type": "code",
        "colab": {
          "base_uri": "https://localhost:8080/",
          "height": 70
        },
        "outputId": "38f3ba5a-e8a5-438b-f80c-4d0677118cfb"
      },
      "source": [
        "scores, boxes, classes=yolo_eval(yolo_outputs)\n",
        "print (\"scores[2]=\"+str(scores[2].numpy()))\n",
        "print (\"boxes[2]=\"+str(boxes[2].numpy()))\n",
        "print (\"classes[2]=\"+str(classes[2].numpy()))\n"
      ],
      "execution_count": 24,
      "outputs": [
        {
          "output_type": "stream",
          "text": [
            "scores[2]=137.49458\n",
            "boxes[2]=[  889.5271 -3058.06   -3385.6492  3430.1182]\n",
            "classes[2]=4\n"
          ],
          "name": "stdout"
        }
      ]
    },
    {
      "cell_type": "code",
      "metadata": {
        "id": "20MTDzWIl4XO",
        "colab_type": "code",
        "colab": {}
      },
      "source": [
        ""
      ],
      "execution_count": null,
      "outputs": []
    }
  ]
}